{
 "cells": [
  {
   "attachments": {},
   "cell_type": "markdown",
   "metadata": {},
   "source": [
    "# Basic commands"
   ]
  },
  {
   "cell_type": "code",
   "execution_count": null,
   "metadata": {},
   "outputs": [],
   "source": [
    "import torch"
   ]
  },
  {
   "cell_type": "code",
   "execution_count": 2,
   "metadata": {},
   "outputs": [
    {
     "name": "stdout",
     "output_type": "stream",
     "text": [
      "tensor([[0., 0., 0.],\n",
      "        [0., 0., 0.]])\n"
     ]
    }
   ],
   "source": [
    "# create an empty tensor (prints a a 2x3 matrix)\n",
    "x = torch.empty(2,3)\n",
    "print(x)"
   ]
  },
  {
   "cell_type": "code",
   "execution_count": 3,
   "metadata": {},
   "outputs": [
    {
     "name": "stdout",
     "output_type": "stream",
     "text": [
      "tensor([[0., 0., 0.],\n",
      "        [0., 0., 0.]])\n"
     ]
    }
   ],
   "source": [
    "# we can also represent the tensor as zeros\n",
    "x = torch.zeros(2,3)\n",
    "print(x)"
   ]
  },
  {
   "cell_type": "code",
   "execution_count": 4,
   "metadata": {},
   "outputs": [
    {
     "name": "stdout",
     "output_type": "stream",
     "text": [
      "tensor([[1., 1., 1.],\n",
      "        [1., 1., 1.]])\n"
     ]
    }
   ],
   "source": [
    "# or ones\n",
    "x = torch.ones(2,3)\n",
    "print(x)"
   ]
  },
  {
   "cell_type": "code",
   "execution_count": 7,
   "metadata": {},
   "outputs": [
    {
     "name": "stdout",
     "output_type": "stream",
     "text": [
      "torch.int32\n"
     ]
    }
   ],
   "source": [
    "# we can also specify the data type within the tensor\n",
    "x = torch.ones(2,3, dtype=torch.int)\n",
    "print(x.dtype)"
   ]
  },
  {
   "cell_type": "code",
   "execution_count": 8,
   "metadata": {},
   "outputs": [
    {
     "name": "stdout",
     "output_type": "stream",
     "text": [
      "torch.Size([2, 3])\n"
     ]
    }
   ],
   "source": [
    "# we can also look at the size of the tensor\n",
    "x = torch.ones(2,3, dtype=torch.int)\n",
    "print(x.size())"
   ]
  },
  {
   "cell_type": "code",
   "execution_count": 9,
   "metadata": {},
   "outputs": [
    {
     "name": "stdout",
     "output_type": "stream",
     "text": [
      "tensor([3.4000, 1.3000, 5.3000])\n"
     ]
    }
   ],
   "source": [
    "# creating a tensor from a python list\n",
    "x = torch.tensor([3.4, 1.3, 5.3])\n",
    "print(x)"
   ]
  },
  {
   "cell_type": "code",
   "execution_count": 11,
   "metadata": {},
   "outputs": [
    {
     "name": "stdout",
     "output_type": "stream",
     "text": [
      "tensor([[1.1871, 1.0251, 1.1229],\n",
      "        [1.0490, 0.4154, 1.4108]])\n"
     ]
    }
   ],
   "source": [
    "# perform simple calculations on two tensors - like addition\n",
    "x = torch.rand(2,3)\n",
    "y = torch.rand(2,3)\n",
    "\n",
    "# use 'add' to add them together\n",
    "z = torch.add(x,y)\n",
    "print(z)"
   ]
  },
  {
   "cell_type": "code",
   "execution_count": 12,
   "metadata": {},
   "outputs": [
    {
     "name": "stdout",
     "output_type": "stream",
     "text": [
      "tensor([[1.5824, 0.9468, 0.9668],\n",
      "        [0.8429, 1.4896, 1.1317]])\n"
     ]
    }
   ],
   "source": [
    "# alternative approach to addition - add in place\n",
    "# note: inclusion of a trailing underscore indicates that the function is an in place operation\n",
    "x = torch.rand(2,3)\n",
    "y = torch.rand(2,3)\n",
    "\n",
    "# add values of x to y\n",
    "y.add_(x)\n",
    "print(y)"
   ]
  },
  {
   "cell_type": "code",
   "execution_count": 13,
   "metadata": {},
   "outputs": [
    {
     "name": "stdout",
     "output_type": "stream",
     "text": [
      "Substitute y from x\n",
      "tensor([[-0.0315, -0.0095,  0.0738],\n",
      "        [ 0.1580, -0.4180, -0.0996]])\n",
      "Multiply x and y\n",
      "tensor([[0.3324, 0.6446, 0.0011],\n",
      "        [0.0323, 0.1581, 0.6882]])\n",
      "Divide y from x\n",
      "tensor([[0.9468, 0.9882, 6.8299],\n",
      "        [2.3464, 0.3649, 0.8869]])\n"
     ]
    }
   ],
   "source": [
    "# other basic calculations\n",
    "x = torch.rand(2,3)\n",
    "y = torch.rand(2,3)\n",
    "\n",
    "# substitution\n",
    "z = torch.sub(x,y)\n",
    "print(\"Substitute y from x\")\n",
    "print(z)\n",
    "\n",
    "# multiply\n",
    "z = torch.mul(x,y)\n",
    "print(\"Multiply x and y\")\n",
    "print(z)\n",
    "\n",
    "# divide\n",
    "z = torch.div(x,y)\n",
    "print(\"Divide y from x\")\n",
    "print(z)\n"
   ]
  },
  {
   "cell_type": "code",
   "execution_count": 15,
   "metadata": {},
   "outputs": [
    {
     "name": "stdout",
     "output_type": "stream",
     "text": [
      "tensor([[0.9446, 0.5592, 0.1314, 0.4660, 0.4892],\n",
      "        [0.4322, 0.4458, 0.3575, 0.3165, 0.2572]])\n",
      "tensor([0.9446, 0.4322])\n"
     ]
    }
   ],
   "source": [
    "# we can also slice into a tensor and access a single row or column\n",
    "x = torch.rand(2,5)\n",
    "print(x)\n",
    "\n",
    "# get all rows but only for the first column\n",
    "print(x[:,0])"
   ]
  },
  {
   "cell_type": "code",
   "execution_count": 16,
   "metadata": {},
   "outputs": [
    {
     "name": "stdout",
     "output_type": "stream",
     "text": [
      "tensor([0.9446, 0.5592, 0.1314, 0.4660, 0.4892])\n"
     ]
    }
   ],
   "source": [
    "# we can also get the a single row but all columns\n",
    "print(x[0,:])"
   ]
  },
  {
   "cell_type": "code",
   "execution_count": 18,
   "metadata": {},
   "outputs": [
    {
     "name": "stdout",
     "output_type": "stream",
     "text": [
      "4x4 tensor\n",
      "tensor([[0.5994, 0.6195, 0.4770, 0.2178],\n",
      "        [0.1295, 0.9117, 0.5175, 0.1416],\n",
      "        [0.1615, 0.4728, 0.7006, 0.0973],\n",
      "        [0.5461, 0.5097, 0.6459, 0.5636]])\n",
      "tensor([0.5994, 0.6195, 0.4770, 0.2178, 0.1295, 0.9117, 0.5175, 0.1416, 0.1615,\n",
      "        0.4728, 0.7006, 0.0973, 0.5461, 0.5097, 0.6459, 0.5636])\n"
     ]
    }
   ],
   "source": [
    "# reshaping a tensor\n",
    "x = torch.rand(4,4)\n",
    "print(\"4x4 tensor\")\n",
    "print(x)\n",
    "\n",
    "# reshaping a tensor is done with the 'view' function \n",
    "# here, we return the original x tensor as in a single dimension\n",
    "y = x.view(16) # 16 as the total elements in a 4x4 matrix is 16\n",
    "print(y)"
   ]
  },
  {
   "cell_type": "code",
   "execution_count": 20,
   "metadata": {},
   "outputs": [
    {
     "name": "stdout",
     "output_type": "stream",
     "text": [
      "tensor([[0.5994, 0.6195, 0.4770, 0.2178, 0.1295, 0.9117, 0.5175, 0.1416],\n",
      "        [0.1615, 0.4728, 0.7006, 0.0973, 0.5461, 0.5097, 0.6459, 0.5636]])\n"
     ]
    }
   ],
   "source": [
    "# alternatively, setting the first parameter to -1 means we can specify the number of elements we want \n",
    "y = x.view(-1, 8)\n",
    "print(y)"
   ]
  },
  {
   "cell_type": "code",
   "execution_count": 21,
   "metadata": {},
   "outputs": [
    {
     "name": "stdout",
     "output_type": "stream",
     "text": [
      "Pytorch tensor\n",
      "tensor([1., 1., 1., 1., 1.])\n",
      "torch.float32\n",
      "Numpy array\n",
      "[1. 1. 1. 1. 1.]\n",
      "float32\n"
     ]
    }
   ],
   "source": [
    "# converting between numpy and torch\n",
    "import numpy as np\n",
    "\n",
    "# create a tensor of ones\n",
    "a = torch.ones(5)\n",
    "print(\"Pytorch tensor\")\n",
    "print(a)\n",
    "print(a.dtype)\n",
    "\n",
    "# convert to numpy\n",
    "b = a.numpy()\n",
    "print(\"Numpy array\")\n",
    "print(b)\n",
    "print(b.dtype)"
   ]
  },
  {
   "cell_type": "code",
   "execution_count": 23,
   "metadata": {},
   "outputs": [
    {
     "name": "stdout",
     "output_type": "stream",
     "text": [
      "float64\n"
     ]
    }
   ],
   "source": [
    "# you can also convert numpy to tensor\n",
    "a = np.ones(5)\n",
    "print(f\"Numpy data type: {a.dtype}\")\n",
    "\n",
    "b = torch.from_numpy(a)\n",
    "print(f\"Tensor data type: {b.dtype}\")"
   ]
  },
  {
   "attachments": {},
   "cell_type": "markdown",
   "metadata": {},
   "source": [
    "### Note on converting between tensors and numpy arrays\n",
    "When converting between pytorch tensors and numpy arrays, it is important to note that whe using a CPU they are stored in the same location in memory. This means that changes to one will automatically be reflected in the other."
   ]
  },
  {
   "cell_type": "code",
   "execution_count": 24,
   "metadata": {},
   "outputs": [
    {
     "name": "stdout",
     "output_type": "stream",
     "text": [
      "[2. 2. 2. 2. 2.]\n",
      "tensor([2., 2., 2., 2., 2.], dtype=torch.float64)\n"
     ]
    }
   ],
   "source": [
    "# for instance, add 1 to a, and its changes will be reflected in b\n",
    "a +=1\n",
    "print(a)\n",
    "print(b)"
   ]
  },
  {
   "cell_type": "code",
   "execution_count": 25,
   "metadata": {},
   "outputs": [
    {
     "name": "stdout",
     "output_type": "stream",
     "text": [
      "GPU not available\n"
     ]
    }
   ],
   "source": [
    "# if working with CUDA, one solution is to add the tensor to the GPU\n",
    "# note: this is for illustrative purposes as I don't have a GPU to run this on.\n",
    "if torch.cuda.is_available():\n",
    "    # specify location of GPU\n",
    "    device = torch.device(\"cuda\")\n",
    "    # add tensor directly on to GPU\n",
    "    x = torch.ones(5, device=device)\n",
    "    # alternatively, we create the tensor on the CPU and then add it to GPU later\n",
    "    y = torch.ones(5)\n",
    "    y.to(device)\n",
    "    # we can then perform the same calculations on the GPU before moving it back to CPU with similar terminology\n",
    "    z = torch.add(x,y)\n",
    "    # move z back to CPU\n",
    "    z.to(\"cpu\")\n",
    "else:\n",
    "    print(\"GPU not available\")"
   ]
  },
  {
   "cell_type": "code",
   "execution_count": null,
   "metadata": {},
   "outputs": [],
   "source": [
    "# include 'requires_grad=True' if you need to calculate gradients later in the pipeline\n",
    "x = torch.ones(5, requires_grad=True)"
   ]
  }
 ],
 "metadata": {
  "kernelspec": {
   "display_name": "venv",
   "language": "python",
   "name": "python3"
  },
  "language_info": {
   "codemirror_mode": {
    "name": "ipython",
    "version": 3
   },
   "file_extension": ".py",
   "mimetype": "text/x-python",
   "name": "python",
   "nbconvert_exporter": "python",
   "pygments_lexer": "ipython3",
   "version": "3.10.5"
  },
  "orig_nbformat": 4
 },
 "nbformat": 4,
 "nbformat_minor": 2
}
