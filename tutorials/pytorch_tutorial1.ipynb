{
 "cells": [
  {
   "attachments": {},
   "cell_type": "markdown",
   "metadata": {},
   "source": [
    "# Installation and Setup"
   ]
  },
  {
   "cell_type": "code",
   "execution_count": null,
   "metadata": {},
   "outputs": [],
   "source": [
    "# initial pip installation based on CPU build on Mac OS\n",
    "!pip3 install --upgrade pip\n",
    "!pip3 install torch torchvision torchaudio"
   ]
  },
  {
   "cell_type": "code",
   "execution_count": 1,
   "metadata": {},
   "outputs": [
    {
     "name": "stdout",
     "output_type": "stream",
     "text": [
      "PyTorch is successfully installed\n",
      "GPU (CUDA) support available with this installation of pytorch: False\n"
     ]
    }
   ],
   "source": [
    "# import torch and check installation\n",
    "try: \n",
    "    import torch\n",
    "    print(\"PyTorch is successfully installed\")\n",
    "\n",
    "    # check if CUDA is available\n",
    "    print(f\"GPU (CUDA) support available with this installation of pytorch: {torch.cuda.is_available()}\")\n",
    "\n",
    "except ImportError:\n",
    "    print(\"Unable to import the 'torch' library.\")\n",
    "    print(\"Please make sure that you have it installed.\")\n",
    "    print(\"You can install it using pip by running 'pip install torch'.\")\n",
    "    print(\"If you still face issues, consult the PyTorch documentation: https://pytorch.org/get-started/locally/\")"
   ]
  },
  {
   "cell_type": "code",
   "execution_count": 3,
   "metadata": {},
   "outputs": [
    {
     "name": "stdout",
     "output_type": "stream",
     "text": [
      "tensor([0.5496, 0.2217, 0.5691])\n"
     ]
    }
   ],
   "source": [
    "# generate a random tensor\n",
    "x = torch.rand(3)\n",
    "print(x)"
   ]
  }
 ],
 "metadata": {
  "kernelspec": {
   "display_name": "venv",
   "language": "python",
   "name": "python3"
  },
  "language_info": {
   "codemirror_mode": {
    "name": "ipython",
    "version": 3
   },
   "file_extension": ".py",
   "mimetype": "text/x-python",
   "name": "python",
   "nbconvert_exporter": "python",
   "pygments_lexer": "ipython3",
   "version": "3.10.5"
  },
  "orig_nbformat": 4
 },
 "nbformat": 4,
 "nbformat_minor": 2
}
